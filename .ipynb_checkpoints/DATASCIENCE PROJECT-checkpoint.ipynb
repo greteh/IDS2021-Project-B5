{
 "cells": [
  {
   "cell_type": "markdown",
   "id": "90cb0a56",
   "metadata": {},
   "source": [
    "# CHICKEN PRICES IN INDIA"
   ]
  },
  {
   "cell_type": "markdown",
   "id": "2c642181",
   "metadata": {},
   "source": [
    "Epp Haavasalu, Grete Hollo"
   ]
  },
  {
   "cell_type": "code",
   "execution_count": 2,
   "id": "694eb611",
   "metadata": {},
   "outputs": [],
   "source": [
    "import pandas as pd\n",
    "import numpy as np\n",
    "import matplotlib.pyplot as plt\n",
    "prices_df = pd.read_csv('chicken_prices_india.csv', sep=',')\n",
    "prices = prices_df.values"
   ]
  },
  {
   "cell_type": "code",
   "execution_count": 5,
   "id": "d4b512f9",
   "metadata": {},
   "outputs": [
    {
     "data": {
      "text/plain": [
       "4771"
      ]
     },
     "execution_count": 5,
     "metadata": {},
     "output_type": "execute_result"
    }
   ],
   "source": [
    "df = pd.DataFrame(prices_df)\n",
    "df.count()"
   ]
  },
  {
   "cell_type": "code",
   "execution_count": null,
   "id": "e3b31384",
   "metadata": {},
   "outputs": [],
   "source": []
  }
 ],
 "metadata": {
  "kernelspec": {
   "display_name": "Python 3",
   "language": "python",
   "name": "python3"
  },
  "language_info": {
   "codemirror_mode": {
    "name": "ipython",
    "version": 3
   },
   "file_extension": ".py",
   "mimetype": "text/x-python",
   "name": "python",
   "nbconvert_exporter": "python",
   "pygments_lexer": "ipython3",
   "version": "3.8.8"
  }
 },
 "nbformat": 4,
 "nbformat_minor": 5
}
